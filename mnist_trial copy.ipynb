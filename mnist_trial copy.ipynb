{
 "cells": [
  {
   "cell_type": "code",
   "execution_count": 7,
   "metadata": {},
   "outputs": [],
   "source": [
    "from keras.models import Sequential\n",
    "from keras.layers import Dense, Conv2D, Flatten, MaxPool2D\n",
    "from keras.datasets import mnist\n",
    "from keras.utils import to_categorical\n",
    "import numpy as np\n",
    "import matplotlib.pyplot as plt"
   ]
  },
  {
   "cell_type": "code",
   "execution_count": 2,
   "metadata": {},
   "outputs": [],
   "source": [
    "(X_train, y_train), (X_test, y_test) = mnist.load_data()"
   ]
  },
  {
   "cell_type": "code",
   "execution_count": 3,
   "metadata": {},
   "outputs": [
    {
     "name": "stdout",
     "output_type": "stream",
     "text": [
      "(60000, 28, 28)\n",
      "(10000, 28, 28)\n"
     ]
    }
   ],
   "source": [
    "print(X_train.shape)\n",
    "print(X_test.shape)"
   ]
  },
  {
   "cell_type": "code",
   "execution_count": 4,
   "metadata": {},
   "outputs": [
    {
     "data": {
      "text/plain": [
       "<matplotlib.image.AxesImage at 0x14e911790>"
      ]
     },
     "execution_count": 4,
     "metadata": {},
     "output_type": "execute_result"
    },
    {
     "data": {
      "image/png": "[encoded data removed]",
      "text/plain": [
       "<Figure size 640x480 with 1 Axes>"
      ]
     },
     "metadata": {},
     "output_type": "display_data"
    }
   ],
   "source": [
    "\n",
    "plt.imshow(X_train[2])"
   ]
  },
  {
   "cell_type": "code",
   "execution_count": 5,
   "metadata": {},
   "outputs": [],
   "source": [
    "X_train = X_train.reshape(60000, 28, 28, 1)\n",
    "X_test = X_test.reshape(10000, 28, 28, 1)"
   ]
  },
  {
   "cell_type": "code",
   "execution_count": 6,
   "metadata": {},
   "outputs": [
    {
     "name": "stdout",
     "output_type": "stream",
     "text": [
      "[0. 0. 0. 0. 0. 1. 0. 0. 0. 0.]\n"
     ]
    }
   ],
   "source": [
    "y_train_one_hot = to_categorical(y_train)\n",
    "y_test_one_hot = to_categorical(y_test)\n",
    "\n",
    "# Print the new label\n",
    "print(y_train_one_hot[0])"
   ]
  },
  {
   "cell_type": "code",
   "execution_count": 7,
   "metadata": {},
   "outputs": [
    {
     "name": "stderr",
     "output_type": "stream",
     "text": [
      "/Users/praveenbhandari/Desktop/mlp/mlp/lib/python3.12/site-packages/keras/src/layers/convolutional/base_conv.py:107: UserWarning: Do not pass an `input_shape`/`input_dim` argument to a layer. When using Sequential models, prefer using an `Input(shape)` object as the first layer in the model instead.\n",
      "  super().__init__(activity_regularizer=activity_regularizer, **kwargs)\n"
     ]
    }
   ],
   "source": [
    "model = Sequential()\n",
    "# Add model layers\n",
    "model.add(Conv2D(64, kernel_size=3, activation = 'relu', input_shape=(28,28,1)))\n",
    "model.add(Conv2D(32, kernel_size=3, activation='relu'))\n",
    "model.add(MaxPool2D(pool_size=(2, 2), strides=None, padding='valid', data_format=None))\n",
    "model.add(Flatten())\n",
    "model.add(Dense(10,activation='softmax'))"
   ]
  },
  {
   "cell_type": "code",
   "execution_count": 8,
   "metadata": {},
   "outputs": [],
   "source": [
    "# !pip install --upgrade tensorflow\n",
    "\n",
    "model.compile(optimizer='adam', loss='categorical_crossentropy', metrics=['accuracy'])"
   ]
  },
  {
   "cell_type": "code",
   "execution_count": 39,
   "metadata": {},
   "outputs": [],
   "source": [
    "# hist = model.fit(X_train,y_train_one_hot, validation_data=(X_test,y_test_one_hot), epochs=5)"
   ]
  },
  {
   "cell_type": "code",
   "execution_count": null,
   "metadata": {},
   "outputs": [],
   "source": []
  },
  {
   "cell_type": "code",
   "execution_count": null,
   "metadata": {},
   "outputs": [],
   "source": []
  },
  {
   "cell_type": "code",
   "execution_count": 17,
   "metadata": {},
   "outputs": [],
   "source": [
    "import numpy as np\n",
    "import random"
   ]
  },
  {
   "cell_type": "code",
   "execution_count": 18,
   "metadata": {},
   "outputs": [],
   "source": [
    "class neuron():\n",
    "    def __init__(self,bias):\n",
    "        self.bias=bias\n",
    "        self.weights=[]\n",
    "\n",
    "    # def sigmoid(self,x):\n",
    "    #     return 1/(1+np.exp(-x))\n",
    "\n",
    "    def sigmoid(self, x):\n",
    "        return 1 / (1 + np.exp(-np.clip(x, -100, 100)))  # Clipping inputs to avoid large values\n",
    "\n",
    "    \n",
    "    def sum_input_to_hiddedn(self):\n",
    "        sum=0\n",
    "        for i in range(len(self.input)):\n",
    "            sum += self.input[i]*self.weights[i]\n",
    "            # print(sum)\n",
    "        return sum+self.bias\n",
    "    \n",
    "    \n",
    "\n",
    "    def cost(self,input):\n",
    "        self.input=input\n",
    "        self.output=self.sigmoid(self.sum_input_to_hiddedn())\n",
    "        # print(self.output)\n",
    "        return self.output\n",
    "    \n",
    "    def cal_error(self,target_op):\n",
    "        return 0.5*np.square(target_op-self.output)\n",
    "    \n",
    "    def error_wrt_output(self, targer_op):\n",
    "        return -(targer_op-self.output)\n",
    "\n",
    "\n",
    "    def error_wrt_input(self):\n",
    "        return self.output*(1-self.output)\n",
    "\n",
    "    def total_error(self,targer_op):\n",
    "        return self.error_wrt_input()*self.error_wrt_output(targer_op)\n",
    "    \n",
    "\n",
    "    # def error_wrt_weight(self,index):\n",
    "    #     return self.input[index]\n",
    "\n",
    "    "
   ]
  },
  {
   "cell_type": "code",
   "execution_count": 19,
   "metadata": {},
   "outputs": [],
   "source": [
    "class network():\n",
    "    def __init__(self,hidden_layer,bias):\n",
    "        self.network=[]\n",
    "        self.bias = bias if bias is not None else random.random()\n",
    "        for _ in range(hidden_layer):\n",
    "            self.network.append(neuron(self.bias))\n",
    "\n",
    "    def forward(self,input):\n",
    "        outputs=[]\n",
    "        for i in self.network:\n",
    "            outputs.append(i.cost(input))\n",
    "        return outputs\n",
    "    \n",
    "\n",
    "    # def backPropogation(self,):\n",
    "        "
   ]
  },
  {
   "cell_type": "code",
   "execution_count": 20,
   "metadata": {},
   "outputs": [],
   "source": [
    "class all_network():\n",
    "    def __init__(self,n_input_layer,n_hidden_layer,n_output_layer,hidden_weights,output_weights,hidden_bias,output_bias):\n",
    "        self.hidden_l_network=network(n_hidden_layer,hidden_bias)\n",
    "        self.output_l_network=network(n_output_layer,output_bias)\n",
    "        self.n_input_layer=n_input_layer\n",
    "        # self.hidden_weight_layer=self.add_weights_to_hidden(hidden_weights)\n",
    "        # self.output_weight_layer=self.add_weights_to_output(output_weights)\n",
    "        self.add_weights(self.hidden_l_network,hidden_weights,n_input_layer)\n",
    "        self.add_weights(self.output_l_network,output_weights,n_hidden_layer)\n",
    "\n",
    "\n",
    "    def add_weights(self, layer, weights, num_inputs):\n",
    "        count = 0\n",
    "        for neuron in layer.network:\n",
    "            neuron.weights = weights[count:count + num_inputs]\n",
    "            count += num_inputs\n",
    "    # def add_weights_to_output(self,output_weights):\n",
    "    #     count=0\n",
    "    #     for i in range(len(self.output_l_network.network)):\n",
    "    #         # print(hidden_l_network.network[i].weight)\n",
    "    #         for j in range((self.n_input_layer)):\n",
    "    #             self.output_l_network.network[i].weight.append(output_weights[count])\n",
    "    #             count+=1\n",
    "\n",
    "    def forward_hidden_op(self,input_data):\n",
    "        # hidden_op=self.hidden_l_network.forward(input_data)\n",
    "        # self.hidden_l_cost=self.hidden_l_network.forward(input_data)\n",
    "        # print(\"Hidden layer outputs:\", self.hidden_l_cost)\n",
    "        # self.output_l_cost=self.output_l_network.forward(self.hidden_l_cost)\n",
    "        # print(\"Output layer outputs:\", self.output_l_cost)  # Print output layer outputs\n",
    "        hidden_output = self.hidden_l_network.forward(input_data)\n",
    "        # print(f\"Hidden Layer Output: {hidden_output}\")\n",
    "        output = self.output_l_network.forward(hidden_output)\n",
    "        # print(f\"Output Layer Output: {output}\")\n",
    "\n",
    "        # return np.mean(output)\n",
    "        return output\n",
    "    \n",
    "    def backPropogation(self, input_data, target_op,learning_rate=0.5):\n",
    "        # Output layer deltas\n",
    "        # self.forward_hidden_op(target_inp)\n",
    "        hidden_output = self.hidden_l_network.forward(input_data)\n",
    "        final_output = self.output_l_network.forward(hidden_output)\n",
    "\n",
    "        # output_deltas = [0] * len(self.output_l_network.network)\n",
    "        # for i in range(len(self.output_l_network.network)):\n",
    "        #     output_deltas[i] = self.output_l_network.network[i].cal_error(target_op[i])\n",
    "\n",
    "        # output_deltas = []\n",
    "        output_deltas = [\n",
    "            (target - output) * neuron.error_wrt_input()\n",
    "            for target, output, neuron in zip(target_op, final_output, self.output_l_network.network)\n",
    "        ]\n",
    "        # hidden_deltas=[]\n",
    "        \n",
    "        # Hidden layer deltas\n",
    "        hidden_deltas = []\n",
    "        for i, hidden_neuron in enumerate(self.hidden_l_network.network):\n",
    "            weighted_sum = sum(\n",
    "                delta * output_neuron.weights[i]\n",
    "                for delta, output_neuron in zip(output_deltas, self.output_l_network.network)\n",
    "            )\n",
    "            hidden_deltas.append(weighted_sum * hidden_neuron.error_wrt_input())\n",
    "\n",
    "        # Update output layer weights and biases\n",
    "        for neuron, delta in zip(self.output_l_network.network, output_deltas):\n",
    "            neuron.weights = [\n",
    "                weight + learning_rate * delta * hidden_output[i]\n",
    "                for i, weight in enumerate(neuron.weights)\n",
    "            ]\n",
    "            neuron.bias += learning_rate * delta\n",
    "\n",
    "        # Update hidden layer weights and biases\n",
    "        for neuron, delta in zip(self.hidden_l_network.network, hidden_deltas):\n",
    "            neuron.weights = [\n",
    "                weight + learning_rate * delta * input_data[i]\n",
    "                for i, weight in enumerate(neuron.weights)\n",
    "            ]\n",
    "            neuron.bias += learning_rate * delta\n",
    "\n",
    "\n",
    "\n",
    "    def calculate_total_error(self, dataset):\n",
    "        total_error = 0\n",
    "        for input_data, target_op in dataset:\n",
    "            outputs = self.forward_hidden_op(input_data)\n",
    "            total_error += sum(0.5 * (target_op[i] - outputs[i]) ** 2 for i in range(len(target_op)))\n",
    "        return total_error\n",
    "\n",
    "\n",
    "\n",
    "\n"
   ]
  },
  {
   "cell_type": "code",
   "execution_count": 13,
   "metadata": {},
   "outputs": [
    {
     "name": "stdout",
     "output_type": "stream",
     "text": [
      "Class probabilities: [0.49460936 0.50539064]\n"
     ]
    }
   ],
   "source": [
    "nn = all_network(2, 2, 2, hidden_weights=[0.15, 0.2, 0.25, 0.3], hidden_bias=0.35, output_weights=[0.4, 0.45, 0.5, 0.55], output_bias=0.6)\n",
    "a=nn.forward_hidden_op([0.05, 0.1])\n",
    "exp_logits = np.exp(a - np.max(a))  # Normalize for numerical stability\n",
    "probabilities = exp_logits / np.sum(exp_logits)\n",
    "print(\"Class probabilities:\", probabilities)\n"
   ]
  },
  {
   "cell_type": "code",
   "execution_count": 14,
   "metadata": {},
   "outputs": [
    {
     "name": "stdout",
     "output_type": "stream",
     "text": [
      "Output from network: [np.float64(0.9325486342326953), np.float64(0.9439366660089503), np.float64(0.9479151672367985)]\n"
     ]
    }
   ],
   "source": [
    "import numpy as np\n",
    "\n",
    "# Instantiate the expanded network\n",
    "nn = all_network(\n",
    "    n_input_layer=5,\n",
    "    n_hidden_layer=4,  # First hidden layer\n",
    "    n_output_layer=3,  # Second hidden layer\n",
    "    hidden_weights=np.random.rand(20).tolist(),  # 4 neurons * 5 inputs\n",
    "    hidden_bias=0.5,   # Bias for each hidden layer neuron\n",
    "    output_weights=np.random.rand(12).tolist(), # 3 neurons * 4 inputs\n",
    "    output_bias=0.6    # Bias for each output layer neuron\n",
    ")\n",
    "\n",
    "# Input data\n",
    "input_data = [0.1, 0.2, 0.3, 0.4, 0.5]\n",
    "\n",
    "# Perform forward propagation\n",
    "output = nn.forward_hidden_op(input_data)\n",
    "\n",
    "# Display the output\n",
    "print(\"Output from network:\", output)\n"
   ]
  },
  {
   "cell_type": "code",
   "execution_count": 15,
   "metadata": {},
   "outputs": [
    {
     "name": "stdout",
     "output_type": "stream",
     "text": [
      "Initial Outputs:\n",
      "[np.float64(0.7513650695523157), np.float64(0.7729284653214625)]\n",
      "\n",
      "Updated Hidden Layer Weights and Biases:\n",
      "Neuron 1: Weights=[np.float64(0.1497807161327628), np.float64(0.19956143226552567)], Bias=0.3456143226552565\n",
      "Neuron 2: Weights=[np.float64(0.24975114363236958), np.float64(0.29950228726473915)], Bias=0.3450228726473914\n",
      "\n",
      "Updated Output Layer Weights and Biases:\n",
      "Neuron 1: Weights=[np.float64(0.35891647971788465), np.float64(0.4086661860762334)], Bias=0.5307507191857215\n",
      "Neuron 2: Weights=[np.float64(0.5113012702387375), np.float64(0.5613701211079891)], Bias=0.6190491182582781\n",
      "\n",
      "Outputs After Training:\n",
      "[np.float64(0.7284417622337656), np.float64(0.7783769203009705)]\n"
     ]
    }
   ],
   "source": [
    "# Define a small dataset for testing\n",
    "input_data = [0.05, 0.1]  # Input to the network\n",
    "target_op = [0.01, 0.99]  # Desired output from the network\n",
    "\n",
    "# Define initial weights and biases\n",
    "hidden_weights = [0.15, 0.2, 0.25, 0.3]  # Weights connecting input to hidden layer\n",
    "output_weights = [0.4, 0.45, 0.5, 0.55]  # Weights connecting hidden to output layer\n",
    "hidden_bias = 0.35  # Bias for hidden layer neurons\n",
    "output_bias = 0.6   # Bias for output layer neurons\n",
    "\n",
    "# Create the neural network\n",
    "nn = all_network(\n",
    "    n_input_layer=2,\n",
    "    n_hidden_layer=2,\n",
    "    n_output_layer=2,\n",
    "    hidden_weights=hidden_weights,\n",
    "    hidden_bias=hidden_bias,\n",
    "    output_weights=output_weights,\n",
    "    output_bias=output_bias\n",
    ")\n",
    "\n",
    "# Print initial outputs (before training)\n",
    "print(\"Initial Outputs:\")\n",
    "initial_output = nn.forward_hidden_op(input_data)\n",
    "print(initial_output)\n",
    "\n",
    "# Perform one step of backpropagation\n",
    "learning_rate = 0.5\n",
    "nn.backPropogation(input_data, target_op, learning_rate)\n",
    "\n",
    "# Print updated weights and biases\n",
    "print(\"\\nUpdated Hidden Layer Weights and Biases:\")\n",
    "for i, neuron in enumerate(nn.hidden_l_network.network):\n",
    "    print(f\"Neuron {i + 1}: Weights={neuron.weights}, Bias={neuron.bias}\")\n",
    "\n",
    "print(\"\\nUpdated Output Layer Weights and Biases:\")\n",
    "for i, neuron in enumerate(nn.output_l_network.network):\n",
    "    print(f\"Neuron {i + 1}: Weights={neuron.weights}, Bias={neuron.bias}\")\n",
    "\n",
    "# Print outputs after training\n",
    "print(\"\\nOutputs After Training:\")\n",
    "updated_output = nn.forward_hidden_op(input_data)\n",
    "print(updated_output)\n"
   ]
  },
  {
   "cell_type": "code",
   "execution_count": 21,
   "metadata": {},
   "outputs": [
    {
     "name": "stdout",
     "output_type": "stream",
     "text": [
      "Training the XOR problem...\n",
      "Epoch 0, Total Error: 1.312864\n",
      "Epoch 100, Total Error: 0.952046\n",
      "Epoch 200, Total Error: 0.956877\n",
      "Epoch 300, Total Error: 0.959967\n",
      "Epoch 400, Total Error: 0.961817\n",
      "Epoch 500, Total Error: 0.962546\n",
      "Epoch 600, Total Error: 0.960888\n",
      "Epoch 700, Total Error: 0.948675\n",
      "Epoch 800, Total Error: 0.887187\n",
      "Epoch 900, Total Error: 0.762480\n",
      "\n",
      "Testing the XOR problem...\n",
      "Input: [0, 0], Predicted Output: [np.float64(0.17185679895761477), np.float64(0.8320557146467397)]\n",
      "Input: [0, 1], Predicted Output: [np.float64(0.6258499406911979), np.float64(0.3708986021273134)]\n",
      "Input: [1, 0], Predicted Output: [np.float64(0.6318516245795388), np.float64(0.3688753220628999)]\n",
      "Input: [1, 1], Predicted Output: [np.float64(0.6383103467889611), np.float64(0.35424198726289746)]\n"
     ]
    }
   ],
   "source": [
    "# XOR dataset\n",
    "xor_inputs = [\n",
    "    [0, 0],\n",
    "    [0, 1],\n",
    "    [1, 0],\n",
    "    [1, 1]\n",
    "]\n",
    "\n",
    "xor_targets = [\n",
    "    [0, 1],  # Output for [0, 0]\n",
    "    [1, 0],  # Output for [0, 1]\n",
    "    [1, 0],  # Output for [1, 0]\n",
    "    [0, 1]   # Output for [1, 1]\n",
    "]\n",
    "\n",
    "# Initialize weights and biases\n",
    "hidden_weights = [0.1, 0.2, 0.3, 0.4]  # Random initialization\n",
    "output_weights = [0.5, 0.6, 0.7, 0.8]\n",
    "hidden_bias = 0.35\n",
    "output_bias = 0.6\n",
    "\n",
    "# Create the network\n",
    "nn = all_network(\n",
    "    n_input_layer=2,\n",
    "    n_hidden_layer=2,\n",
    "    n_output_layer=2,\n",
    "    hidden_weights=hidden_weights,\n",
    "    hidden_bias=hidden_bias,\n",
    "    output_weights=output_weights,\n",
    "    output_bias=output_bias\n",
    ")\n",
    "\n",
    "# Train the network on the XOR problem\n",
    "learning_rate = 0.5\n",
    "epochs = 1000  # Number of training iterations\n",
    "\n",
    "print(\"Training the XOR problem...\")\n",
    "\n",
    "for epoch in range(epochs):\n",
    "    total_error = 0\n",
    "    for input_data, target_op in zip(xor_inputs, xor_targets):\n",
    "        nn.backPropogation(input_data, target_op, learning_rate)\n",
    "        total_error += nn.calculate_total_error([(input_data, target_op)])\n",
    "    if epoch % 100 == 0:\n",
    "        print(f\"Epoch {epoch}, Total Error: {total_error:.6f}\")\n",
    "\n",
    "# Test the network\n",
    "print(\"\\nTesting the XOR problem...\")\n",
    "for input_data in xor_inputs:\n",
    "    output = nn.forward_hidden_op(input_data)\n",
    "    print(f\"Input: {input_data}, Predicted Output: {output}\")\n"
   ]
  },
  {
   "cell_type": "code",
   "execution_count": null,
   "metadata": {},
   "outputs": [],
   "source": []
  },
  {
   "cell_type": "code",
   "execution_count": null,
   "metadata": {},
   "outputs": [
    {
     "name": "stdout",
     "output_type": "stream",
     "text": [
      "Prediction before training: 3\n",
      "\n",
      "Training the network on MNIST data...\n",
      "Epoch 1/5, Total Error: 9139.620941\n",
      "Epoch 2/5, Total Error: 2195.848908\n",
      "Epoch 3/5, Total Error: 1924.854084\n",
      "Epoch 4/5, Total Error: 1782.671257\n",
      "Epoch 5/5, Total Error: 1668.967155\n",
      "\n",
      "Accuracy on MNIST test data: 93.80%\n",
      "Prediction after training: 7\n",
      "Actual class: 7\n",
      "after train [np.float64(0.9681478106756721), np.float64(0.9654559298175209), np.float64(0.9559403131723999), np.float64(0.9712328651655572), np.float64(0.9690818226041124), np.float64(0.9564146843861848), np.float64(0.963861185789479), np.float64(0.9665142734788169), np.float64(0.9640462778014949), np.float64(0.9555501801353329)]\n"
     ]
    }
   ],
   "source": [
    "import numpy as np\n",
    "from tensorflow.keras.datasets import mnist\n",
    "from sklearn.preprocessing import OneHotEncoder\n",
    "\n",
    "# Load MNIST dataset\n",
    "(X_train, y_train), (X_test, y_test) = mnist.load_data()\n",
    "X_train = X_train\n",
    "y_train = y_train\n",
    "X_test = X_test\n",
    "y_test = y_test\n",
    "X_train_1 = X_train[:1000]\n",
    "y_train_1 = y_train[:1000]\n",
    "X_test_1 = X_test[:1000]\n",
    "y_test_1 = y_test[:1000]\n",
    "# Preprocess the data\n",
    "X_train = X_train.reshape(X_train.shape[0], -1) / 255.0  # Normalize and flatten\n",
    "X_test = X_test.reshape(X_test.shape[0], -1) / 255.0\n",
    "\n",
    "# One-hot encode the labels\n",
    "encoder = OneHotEncoder(sparse_output=False, categories='auto')\n",
    "y_train_onehot = encoder.fit_transform(y_train.reshape(-1, 1))\n",
    "y_test_onehot = encoder.transform(y_test.reshape(-1, 1))\n",
    "\n",
    "# Initialize the network\n",
    "input_size = 784\n",
    "hidden_layer_size = 64\n",
    "output_layer_size = 10\n",
    "\n",
    "hidden_weights = np.random.rand(hidden_layer_size * input_size) * 0.1\n",
    "output_weights = np.random.rand(output_layer_size * hidden_layer_size) * 0.1\n",
    "hidden_bias = 0.1\n",
    "output_bias = 0.1\n",
    "\n",
    "nn = all_network(\n",
    "    n_input_layer=input_size,\n",
    "    n_hidden_layer=hidden_layer_size,\n",
    "    n_output_layer=output_layer_size,\n",
    "    hidden_weights=hidden_weights.tolist(),\n",
    "    hidden_bias=hidden_bias,\n",
    "    output_weights=output_weights.tolist(),\n",
    "    output_bias=output_bias\n",
    ")\n",
    "\n",
    "# Train the network\n",
    "epochs = 5\n",
    "learning_rate = 0.1\n",
    "batch_size = 32\n",
    "output = nn.forward_hidden_op(X_test[0])\n",
    "predicted_class = np.argmax(output)\n",
    "print(\"Prediction before training:\", predicted_class)\n",
    "print(\"\\nTraining the network on MNIST data...\")\n",
    "\n",
    "for epoch in range(epochs):\n",
    "    total_error = 0\n",
    "    for i in range(0, len(X_train), batch_size):\n",
    "        batch_X = X_train[i:i+batch_size]\n",
    "        batch_y = y_train_onehot[i:i+batch_size]\n",
    "        for input_data, target_output in zip(batch_X, batch_y):\n",
    "            nn.backPropogation(input_data.tolist(), target_output.tolist(), learning_rate)\n",
    "            total_error += nn.calculate_total_error([(input_data.tolist(), target_output.tolist())])\n",
    "    print(f\"Epoch {epoch + 1}/{epochs}, Total Error: {total_error:.6f}\")\n",
    "\n",
    "# Test the network\n",
    "correct_predictions = 0\n",
    "for input_data, target_label in zip(X_test, y_test):\n",
    "    predicted_output = nn.forward_hidden_op(input_data.tolist())\n",
    "    predicted_class = predicted_output.index(max(predicted_output))\n",
    "    if predicted_class == target_label:\n",
    "        correct_predictions += 1\n",
    "\n",
    "accuracy = correct_predictions / len(X_test)\n",
    "print(f\"\\nAccuracy on MNIST test data: {accuracy * 100:.2f}%\")\n",
    "output_after_training = nn.forward_hidden_op(X_test[0])\n",
    "predicted_class_after_training = np.argmax(output_after_training)\n",
    "\n",
    "# Print the network's prediction after training\n",
    "print(\"Prediction after training:\", predicted_class_after_training)\n",
    "\n",
    "# Print the actual target class\n",
    "actual_class = np.argmax(y_test_onehot[0])\n",
    "print(\"Actual class:\", actual_class)\n",
    "print(\"after train\",output)\n"
   ]
  },
  {
   "cell_type": "code",
   "execution_count": 35,
   "metadata": {},
   "outputs": [
    {
     "name": "stdout",
     "output_type": "stream",
     "text": [
      "Model saved successfully!\n"
     ]
    }
   ],
   "source": [
    "import pickle\n",
    "\n",
    "# Save the model to a file\n",
    "with open(\"mnist_network_model.pkl\", \"wb\") as file:\n",
    "    pickle.dump(nn, file)\n",
    "\n",
    "print(\"Model saved successfully!\")\n"
   ]
  },
  {
   "cell_type": "code",
   "execution_count": 30,
   "metadata": {},
   "outputs": [
    {
     "name": "stdout",
     "output_type": "stream",
     "text": [
      "Actual class: 7\n",
      "after train [np.float64(0.9569208496791848), np.float64(0.9621703502679856), np.float64(0.9626856005098301), np.float64(0.9721810422144805), np.float64(0.9565162256581629), np.float64(0.9523248661276887), np.float64(0.9576968712211601), np.float64(0.9445013860547323), np.float64(0.9643497251120839), np.float64(0.9640974021710926)]\n"
     ]
    }
   ],
   "source": [
    "# Print the actual target class\n",
    "actual_class = np.argmax(y_test_onehot[0])\n",
    "print(\"Actual class:\", actual_class)\n",
    "print(\"after train\",output)\n"
   ]
  },
  {
   "cell_type": "code",
   "execution_count": 34,
   "metadata": {},
   "outputs": [
    {
     "data": {
      "text/plain": [
       "<matplotlib.image.AxesImage at 0x141d00a70>"
      ]
     },
     "execution_count": 34,
     "metadata": {},
     "output_type": "execute_result"
    },
    {
     "data": {
      "image/png": "[encoded data removed]",
      "text/plain": [
       "<Figure size 640x480 with 1 Axes>"
      ]
     },
     "metadata": {},
     "output_type": "display_data"
    }
   ],
   "source": [
    "plt.imshow(X_test_1[0])"
   ]
  },
  {
   "cell_type": "code",
   "execution_count": 26,
   "metadata": {},
   "outputs": [
    {
     "name": "stdout",
     "output_type": "stream",
     "text": [
      "Prediction before training: 6\n",
      "Prediction after training: 6\n",
      "Actual class: 5\n"
     ]
    }
   ],
   "source": [
    "input_sample = X_train[0]\n",
    "target_sample = y_train_onehot[0]\n",
    "\n",
    "# Forward pass\n",
    "output = nn.forward_hidden_op(input_sample)\n",
    "\n",
    "# Print the network's prediction before training\n",
    "predicted_class = np.argmax(output)\n",
    "print(\"Prediction before training:\", predicted_class)\n",
    "\n",
    "# Perform backpropagation\n",
    "nn.backPropogation(input_sample, target_sample, learning_rate=0.1)\n",
    "\n",
    "# Forward pass again after backpropagation\n",
    "output_after_training = nn.forward_hidden_op(input_sample)\n",
    "predicted_class_after_training = np.argmax(output_after_training)\n",
    "\n",
    "# Print the network's prediction after training\n",
    "print(\"Prediction after training:\", predicted_class_after_training)\n",
    "\n",
    "# Print the actual target class\n",
    "actual_class = np.argmax(target_sample)\n",
    "print(\"Actual class:\", actual_class)"
   ]
  },
  {
   "cell_type": "code",
   "execution_count": 8,
   "metadata": {},
   "outputs": [],
   "source": [
    "(X_train, y_train), (X_test, y_test) = mnist.load_data()"
   ]
  },
  {
   "cell_type": "code",
   "execution_count": 9,
   "metadata": {},
   "outputs": [
    {
     "data": {
      "text/plain": [
       "(28, 28)"
      ]
     },
     "execution_count": 9,
     "metadata": {},
     "output_type": "execute_result"
    }
   ],
   "source": [
    "# X_train.shape\n",
    "X_train[0].shape"
   ]
  },
  {
   "cell_type": "code",
   "execution_count": 10,
   "metadata": {},
   "outputs": [
    {
     "data": {
      "text/plain": [
       "<matplotlib.image.AxesImage at 0x1327eab40>"
      ]
     },
     "execution_count": 10,
     "metadata": {},
     "output_type": "execute_result"
    },
    {
     "data": {
      "image/png": "[encoded data removed]",
      "text/plain": [
       "<Figure size 640x480 with 1 Axes>"
      ]
     },
     "metadata": {},
     "output_type": "display_data"
    }
   ],
   "source": [
    "\n",
    "import matplotlib.pyplot as plt\n",
    "plt.imshow(X_train[0])"
   ]
  },
  {
   "cell_type": "code",
   "execution_count": 11,
   "metadata": {},
   "outputs": [
    {
     "data": {
      "text/plain": [
       "[array([0.78521205, 0.78521205, 0.78521205, 0.78521205, 0.91346952,\n",
       "        0.91514751, 0.91517588, 0.91519337, 0.91519339, 0.91519339,\n",
       "        0.91519339, 0.91519339, 0.91519339, 0.91519339, 0.91519339,\n",
       "        0.91519339, 0.91519339, 0.91519339, 0.91519339, 0.91519339,\n",
       "        0.91514659, 0.91515738, 0.91513378, 0.91351347, 0.78521205,\n",
       "        0.78521205, 0.78521205, 0.78521205]),\n",
       " array([0.80338478, 0.80338478, 0.80338478, 0.80338478, 0.92967899,\n",
       "        0.93023925, 0.93025007, 0.93026304, 0.93026305, 0.93026305,\n",
       "        0.93026305, 0.93026305, 0.93026305, 0.93026305, 0.93026305,\n",
       "        0.93026305, 0.93026305, 0.93026305, 0.93026305, 0.93026305,\n",
       "        0.93024994, 0.930253  , 0.93024661, 0.92968616, 0.80338478,\n",
       "        0.80338478, 0.80338478, 0.80338478]),\n",
       " array([0.79815573, 0.79815573, 0.79815573, 0.79815573, 0.92547699,\n",
       "        0.92607347, 0.92608563, 0.92610212, 0.92610213, 0.92610213,\n",
       "        0.92610213, 0.92610213, 0.92610213, 0.92610213, 0.92610213,\n",
       "        0.92610213, 0.92610213, 0.92610213, 0.92610213, 0.92610213,\n",
       "        0.92609657, 0.92609761, 0.92609326, 0.92521997, 0.79815573,\n",
       "        0.79815573, 0.79815573, 0.79815573]),\n",
       " array([0.79268105, 0.79268105, 0.79268105, 0.79268105, 0.92053624,\n",
       "        0.92157159, 0.92158703, 0.9215946 , 0.92159461, 0.92159461,\n",
       "        0.92159461, 0.92159461, 0.92159461, 0.92159461, 0.92159461,\n",
       "        0.92159461, 0.92159461, 0.92159461, 0.92159461, 0.92159461,\n",
       "        0.9215499 , 0.92156017, 0.92153735, 0.9199565 , 0.79268105,\n",
       "        0.79268105, 0.79268105, 0.79268105]),\n",
       " array([0.8268333 , 0.8268333 , 0.8268333 , 0.8268333 , 0.94636957,\n",
       "        0.9471961 , 0.94720964, 0.94722208, 0.94722209, 0.94722209,\n",
       "        0.94722209, 0.94722209, 0.94722209, 0.94722209, 0.94722209,\n",
       "        0.94722209, 0.94722209, 0.94722209, 0.94722209, 0.94722209,\n",
       "        0.94719443, 0.9472008 , 0.94718677, 0.94616481, 0.8268333 ,\n",
       "        0.8268333 , 0.8268333 , 0.8268333 ]),\n",
       " array([0.81195407, 0.81195407, 0.81195407, 0.81195407, 0.93601992,\n",
       "        0.93676614, 0.93677745, 0.93678022, 0.93678023, 0.93678023,\n",
       "        0.93678023, 0.93678023, 0.93678023, 0.93678023, 0.93678023,\n",
       "        0.93678023, 0.93678023, 0.93678023, 0.93678023, 0.93678023,\n",
       "        0.93676681, 0.93676962, 0.93676104, 0.93559705, 0.81195407,\n",
       "        0.81195407, 0.81195407, 0.81195407]),\n",
       " array([0.81459594, 0.81459594, 0.81459594, 0.81459594, 0.93791055,\n",
       "        0.93868967, 0.93870291, 0.93871461, 0.93871463, 0.93871463,\n",
       "        0.93871463, 0.93871463, 0.93871463, 0.93871463, 0.93871463,\n",
       "        0.93871463, 0.93871463, 0.93871463, 0.93871463, 0.93871463,\n",
       "        0.93868767, 0.93869376, 0.93867934, 0.93750011, 0.81459594,\n",
       "        0.81459594, 0.81459594, 0.81459594]),\n",
       " array([0.82112086, 0.82112086, 0.82112086, 0.82112086, 0.94250186,\n",
       "        0.94331542, 0.9433293 , 0.94334287, 0.94334288, 0.94334288,\n",
       "        0.94334288, 0.94334288, 0.94334288, 0.94334288, 0.94334288,\n",
       "        0.94334288, 0.94334288, 0.94334288, 0.94334288, 0.94334288,\n",
       "        0.94331156, 0.94331877, 0.94330291, 0.94226139, 0.82112086,\n",
       "        0.82112086, 0.82112086, 0.82112086]),\n",
       " array([0.80444375, 0.80444375, 0.80444375, 0.80444375, 0.93022874,\n",
       "        0.93106776, 0.93108123, 0.93108864, 0.93108864, 0.93108864,\n",
       "        0.93108864, 0.93108864, 0.93108864, 0.93108864, 0.93108864,\n",
       "        0.93108864, 0.93108864, 0.93108864, 0.93108864, 0.93108864,\n",
       "        0.93107913, 0.93108129, 0.93107629, 0.9305202 , 0.80444375,\n",
       "        0.80444375, 0.80444375, 0.80444375]),\n",
       " array([0.82914072, 0.82914072, 0.82914072, 0.82914072, 0.94813335,\n",
       "        0.94872805, 0.94873628, 0.94874376, 0.94874376, 0.94874376,\n",
       "        0.94874376, 0.94874376, 0.94874376, 0.94874376, 0.94874376,\n",
       "        0.94874376, 0.94874376, 0.94874376, 0.94874376, 0.94874376,\n",
       "        0.94871681, 0.94872292, 0.94870861, 0.94758607, 0.82914072,\n",
       "        0.82914072, 0.82914072, 0.82914072])]"
      ]
     },
     "execution_count": 11,
     "metadata": {},
     "output_type": "execute_result"
    }
   ],
   "source": [
    "# def __init__(self,n_input_layer,n_hidden_layer,n_output_layer,hidden_weights,output_weights,hidden_bias,output_bias):\n",
    "\n",
    "hidden_weights=np.random.rand(764 * 50) * 0.1\n",
    "output_weight=np.random.rand(10 * 50) * 0.1\n",
    "\n",
    "nn = all_network(764, 50, 10, hidden_weights, hidden_bias=0.1, output_weights=output_weight, output_bias=0.1)\n",
    "a=nn.forward_hidden_op(X_train[0])\n",
    "a"
   ]
  },
  {
   "cell_type": "code",
   "execution_count": 12,
   "metadata": {},
   "outputs": [
    {
     "name": "stdout",
     "output_type": "stream",
     "text": [
      "10.0\n"
     ]
    }
   ],
   "source": [
    "a=np.array(a)\n",
    "class_predictions = a.argmax()\n",
    "value=class_predictions\n",
    "min_value = 1\n",
    "max_value = 10\n",
    "normalized_value = min_value + (value - np.min([value, min_value])) * (max_value - min_value) / (np.max([value, max_value]) - np.min([value, min_value]))\n",
    "\n",
    "print(normalized_value)"
   ]
  },
  {
   "cell_type": "code",
   "execution_count": 42,
   "metadata": {},
   "outputs": [
    {
     "ename": "TypeError",
     "evalue": "object of type 'numpy.uint8' has no len()",
     "output_type": "error",
     "traceback": [
      "\u001b[0;31m---------------------------------------------------------------------------\u001b[0m",
      "\u001b[0;31mTypeError\u001b[0m                                 Traceback (most recent call last)",
      "Cell \u001b[0;32mIn[42], line 11\u001b[0m\n\u001b[1;32m      9\u001b[0m     \u001b[38;5;66;03m# Perform forward and backward pass\u001b[39;00m\n\u001b[1;32m     10\u001b[0m     nn\u001b[38;5;241m.\u001b[39mforward_hidden_op(input_data)\n\u001b[0;32m---> 11\u001b[0m     \u001b[43mnn\u001b[49m\u001b[38;5;241;43m.\u001b[39;49m\u001b[43mbackPropogation\u001b[49m\u001b[43m(\u001b[49m\u001b[43minput_data\u001b[49m\u001b[43m,\u001b[49m\u001b[43m \u001b[49m\u001b[43mtarget_output\u001b[49m\u001b[43m,\u001b[49m\u001b[43m \u001b[49m\u001b[43mlearning_rate\u001b[49m\u001b[43m)\u001b[49m\n\u001b[1;32m     13\u001b[0m \u001b[38;5;66;03m# Calculate total error for the epoch\u001b[39;00m\n\u001b[1;32m     14\u001b[0m total_error \u001b[38;5;241m=\u001b[39m nn\u001b[38;5;241m.\u001b[39mcalculate_total_error(\u001b[38;5;28mzip\u001b[39m(X_train, y_train))\n",
      "Cell \u001b[0;32mIn[25], line 51\u001b[0m, in \u001b[0;36mall_network.backPropogation\u001b[0;34m(self, input_data, target_op, learning_rate)\u001b[0m\n\u001b[1;32m     46\u001b[0m \u001b[38;5;66;03m# output_deltas = [0] * len(self.output_l_network.network)\u001b[39;00m\n\u001b[1;32m     47\u001b[0m \u001b[38;5;66;03m# for i in range(len(self.output_l_network.network)):\u001b[39;00m\n\u001b[1;32m     48\u001b[0m \u001b[38;5;66;03m#     output_deltas[i] = self.output_l_network.network[i].cal_error(target_op[i])\u001b[39;00m\n\u001b[1;32m     50\u001b[0m output_deltas \u001b[38;5;241m=\u001b[39m []\n\u001b[0;32m---> 51\u001b[0m \u001b[38;5;28;01mfor\u001b[39;00m i \u001b[38;5;129;01min\u001b[39;00m \u001b[38;5;28mrange\u001b[39m(\u001b[38;5;28;43mlen\u001b[39;49m\u001b[43m(\u001b[49m\u001b[43mtarget_op\u001b[49m\u001b[43m)\u001b[49m):\n\u001b[1;32m     52\u001b[0m     error_wrt_input \u001b[38;5;241m=\u001b[39m \u001b[38;5;28mself\u001b[39m\u001b[38;5;241m.\u001b[39moutput_l_network\u001b[38;5;241m.\u001b[39mnetwork[i]\u001b[38;5;241m.\u001b[39merror_wrt_input()\n\u001b[1;32m     53\u001b[0m     output_deltas\u001b[38;5;241m.\u001b[39mappend((target_op[i] \u001b[38;5;241m-\u001b[39m final_output[i]) \u001b[38;5;241m*\u001b[39m error_wrt_input)\n",
      "\u001b[0;31mTypeError\u001b[0m: object of type 'numpy.uint8' has no len()"
     ]
    }
   ],
   "source": [
    "epochs = 10\n",
    "learning_rate = 0.1\n",
    "\n",
    "for epoch in range(epochs):\n",
    "    for i in range(len(X_train)):\n",
    "        input_data = X_train[i]\n",
    "        target_output = y_train[i]\n",
    "        \n",
    "        # Perform forward and backward pass\n",
    "        nn.forward_hidden_op(input_data)\n",
    "        nn.backPropogation(input_data, target_output, learning_rate)\n",
    "    \n",
    "    # Calculate total error for the epoch\n",
    "    total_error = nn.calculate_total_error(zip(X_train, y_train))\n",
    "    print(f\"Epoch {epoch+1}, Total Error: {total_error:.4f}\")\n"
   ]
  },
  {
   "cell_type": "code",
   "execution_count": null,
   "metadata": {},
   "outputs": [],
   "source": [
    "correct_predictions = 0\n",
    "\n",
    "for i in range(len(X_test)):\n",
    "    input_data = X_test[i]\n",
    "    target_output = y_test[i]\n",
    "    \n",
    "    # Forward pass\n",
    "    output = nn.forward_hidden_op(input_data)\n",
    "    \n",
    "    # Check if the predicted label matches the actual label\n",
    "    if np.argmax(output) == np.argmax(target_output):\n",
    "        correct_predictions += 1\n",
    "\n",
    "accuracy = correct_predictions / len(X_test)\n",
    "print(f\"Test Accuracy: {accuracy:.2%}\")\n"
   ]
  },
  {
   "cell_type": "code",
   "execution_count": null,
   "metadata": {},
   "outputs": [],
   "source": []
  },
  {
   "cell_type": "code",
   "execution_count": null,
   "metadata": {},
   "outputs": [],
   "source": []
  },
  {
   "cell_type": "code",
   "execution_count": null,
   "metadata": {},
   "outputs": [],
   "source": []
  },
  {
   "cell_type": "code",
   "execution_count": null,
   "metadata": {},
   "outputs": [],
   "source": []
  },
  {
   "cell_type": "code",
   "execution_count": null,
   "metadata": {},
   "outputs": [],
   "source": []
  },
  {
   "cell_type": "code",
   "execution_count": null,
   "metadata": {},
   "outputs": [],
   "source": []
  },
  {
   "cell_type": "code",
   "execution_count": null,
   "metadata": {},
   "outputs": [],
   "source": []
  },
  {
   "cell_type": "code",
   "execution_count": null,
   "metadata": {},
   "outputs": [],
   "source": []
  },
  {
   "cell_type": "code",
   "execution_count": null,
   "metadata": {},
   "outputs": [],
   "source": []
  },
  {
   "cell_type": "code",
   "execution_count": null,
   "metadata": {},
   "outputs": [],
   "source": []
  },
  {
   "cell_type": "markdown",
   "metadata": {},
   "source": [
    "SHIT down"
   ]
  },
  {
   "cell_type": "code",
   "execution_count": null,
   "metadata": {},
   "outputs": [],
   "source": []
  },
  {
   "cell_type": "code",
   "execution_count": null,
   "metadata": {},
   "outputs": [
    {
     "ename": "TypeError",
     "evalue": "all_network.__init__() got an unexpected keyword argument 'hidden_weights'",
     "output_type": "error",
     "traceback": [
      "\u001b[0;31m---------------------------------------------------------------------------\u001b[0m",
      "\u001b[0;31mTypeError\u001b[0m                                 Traceback (most recent call last)",
      "Cell \u001b[0;32mIn[15], line 1\u001b[0m\n\u001b[0;32m----> 1\u001b[0m nn \u001b[38;5;241m=\u001b[39m \u001b[43mall_network\u001b[49m\u001b[43m(\u001b[49m\u001b[38;5;241;43m2\u001b[39;49m\u001b[43m,\u001b[49m\u001b[43m \u001b[49m\u001b[38;5;241;43m2\u001b[39;49m\u001b[43m,\u001b[49m\u001b[43m \u001b[49m\u001b[38;5;241;43m2\u001b[39;49m\u001b[43m,\u001b[49m\u001b[43m \u001b[49m\u001b[43mhidden_weights\u001b[49m\u001b[38;5;241;43m=\u001b[39;49m\u001b[43m[\u001b[49m\u001b[38;5;241;43m0.15\u001b[39;49m\u001b[43m,\u001b[49m\u001b[43m \u001b[49m\u001b[38;5;241;43m0.2\u001b[39;49m\u001b[43m,\u001b[49m\u001b[43m \u001b[49m\u001b[38;5;241;43m0.25\u001b[39;49m\u001b[43m,\u001b[49m\u001b[43m \u001b[49m\u001b[38;5;241;43m0.3\u001b[39;49m\u001b[43m]\u001b[49m\u001b[43m,\u001b[49m\u001b[43m \u001b[49m\u001b[43mhidden_bias\u001b[49m\u001b[38;5;241;43m=\u001b[39;49m\u001b[38;5;241;43m0.35\u001b[39;49m\u001b[43m,\u001b[49m\u001b[43m \u001b[49m\u001b[43moutput_weights\u001b[49m\u001b[38;5;241;43m=\u001b[39;49m\u001b[43m[\u001b[49m\u001b[38;5;241;43m0.4\u001b[39;49m\u001b[43m,\u001b[49m\u001b[43m \u001b[49m\u001b[38;5;241;43m0.45\u001b[39;49m\u001b[43m,\u001b[49m\u001b[43m \u001b[49m\u001b[38;5;241;43m0.5\u001b[39;49m\u001b[43m,\u001b[49m\u001b[43m \u001b[49m\u001b[38;5;241;43m0.55\u001b[39;49m\u001b[43m]\u001b[49m\u001b[43m,\u001b[49m\u001b[43m \u001b[49m\u001b[43moutput_bias\u001b[49m\u001b[38;5;241;43m=\u001b[39;49m\u001b[38;5;241;43m0.6\u001b[39;49m\u001b[43m)\u001b[49m\n\u001b[1;32m      3\u001b[0m \u001b[38;5;66;03m# dataset = [([0.05, 0.1], [0.01, 0.99])]\u001b[39;00m\n\u001b[1;32m      4\u001b[0m \n\u001b[1;32m      5\u001b[0m \u001b[38;5;66;03m# for epoch in range(100):\u001b[39;00m\n\u001b[1;32m      6\u001b[0m \u001b[38;5;66;03m#     nn.backPropogation([0.05, 0.1], [0.01, 0.99])\u001b[39;00m\n\u001b[1;32m      7\u001b[0m \u001b[38;5;66;03m#     if epoch % 10 == 0:\u001b[39;00m\n\u001b[1;32m      8\u001b[0m \u001b[38;5;66;03m#         print(f\"Epoch {epoch}: Error = {nn.calculate_total_error(dataset)}\")\u001b[39;00m\n\u001b[1;32m      9\u001b[0m errors \u001b[38;5;241m=\u001b[39m []\n",
      "\u001b[0;31mTypeError\u001b[0m: all_network.__init__() got an unexpected keyword argument 'hidden_weights'"
     ]
    }
   ],
   "source": [
    "nn = all_network(2, 2, 2, hidden_weights=[0.15, 0.2, 0.25, 0.3], hidden_bias=0.35, output_weights=[0.4, 0.45, 0.5, 0.55], output_bias=0.6)\n",
    "\n",
    "# dataset = [([0.05, 0.1], [0.01, 0.99])]\n",
    "\n",
    "# for epoch in range(100):\n",
    "#     nn.backPropogation([0.05, 0.1], [0.01, 0.99])\n",
    "#     if epoch % 10 == 0:\n",
    "#         print(f\"Epoch {epoch}: Error = {nn.calculate_total_error(dataset)}\")\n",
    "errors = []\n",
    "for i in range(10):\n",
    "    nn.backPropogation([0.05, 0.1], [0.01, 0.99])\n",
    "    error = round(nn.calculate_total_error([([0.05, 0.1], [0.01, 0.99])]), 9)\n",
    "    errors.append(error)\n",
    "    # print(i, round(nn.calculate_total_error([[[0.05, 0.1], [0.01, 0.99]]]), 9))\n",
    "    print(i,error)\n",
    "plt.plot(range(10), errors)\n",
    "plt.xlabel('Epoch')\n",
    "plt.ylabel('Error')\n",
    "plt.title('Error Loss Over Epochs')\n",
    "plt.show()"
   ]
  },
  {
   "cell_type": "code",
   "execution_count": 46,
   "metadata": {},
   "outputs": [],
   "source": [
    "# inp_lay=784\n",
    "# hidden_lay=64\n",
    "# op_lay=10\n",
    "# hidden_weights=np.random.rand(inp_lay * hidden_lay)\n",
    "# output_weights = np.random.rand(op_lay * hidden_lay)\n",
    "# hid_bias=np.random.rand()\n",
    "# op_bias=np.random.rand()\n",
    "# # print(len(hidden_weights))\n",
    "# # print(len(output_weights))\n",
    "# # print(op_bias)"
   ]
  },
  {
   "cell_type": "code",
   "execution_count": 47,
   "metadata": {},
   "outputs": [],
   "source": [
    "inp_lay=784\n",
    "hidden_lay=64\n",
    "op_lay=10\n",
    "hidden_weights=np.random.rand(inp_lay * hidden_lay)*0.1\n",
    "output_weights = np.random.rand(op_lay * hidden_lay)*0.1\n",
    "hid_bias=np.random.rand()\n",
    "op_bias=np.random.rand()\n",
    "mnist_network = all_network(inp_lay, hidden_lay, op_lay,hidden_weights, output_weights, hid_bias, op_bias)\n",
    "input_data = np.random.rand(inp_lay)  # Random input data (e.g., 784 features for one image)\n",
    "target_op = np.random.rand(op_lay)  # Random target output (e.g., 10 classes)\n",
    "\n",
    "# epochs = 5\n",
    "# for epoch in range(epochs):\n",
    "#     mnist_network.backPropogation(input_data, target_op, learning_rate=0.01)\n",
    "#     error = mnist_network.calculate_total_error([(input_data, target_op)])\n",
    "#     print(f\"Total error: {error}\")\n",
    "# epochs = 10\n",
    "# learning_rate = 0.1\n"
   ]
  },
  {
   "cell_type": "code",
   "execution_count": 48,
   "metadata": {},
   "outputs": [],
   "source": [
    "\n",
    "# a=np.random.rand(inp_lay * hidden_lay)\n",
    "# hidden_weights=np.random.rand(inp_lay * hidden_lay)*0.1\n",
    "# print(a[0],hidden_weights[0])"
   ]
  },
  {
   "cell_type": "code",
   "execution_count": 49,
   "metadata": {},
   "outputs": [],
   "source": [
    "# input_data = X_train.reshape(784,)\n",
    "# input_data.shape\n",
    "\n",
    "from sklearn.preprocessing import OneHotEncoder\n",
    "X_train_flattened = X_train.reshape(-1, 784) / 255.0\n",
    "X_train_flattened.shape\n",
    "# Instantiate the encoder with sparse_output set to False\n",
    "encoder = OneHotEncoder(sparse_output=False)\n",
    "\n",
    "# Fit and transform the labels into one-hot encoded format\n",
    "y_train_one_hot = encoder.fit_transform(y_train.reshape(-1, 1))"
   ]
  },
  {
   "cell_type": "code",
   "execution_count": 50,
   "metadata": {},
   "outputs": [
    {
     "name": "stdout",
     "output_type": "stream",
     "text": [
      "Epoch 1/0, Total Error: 84.70997609786079\n",
      "Epoch 2/1, Total Error: 41.895059393639904\n",
      "Epoch 3/2, Total Error: 41.914483844124206\n",
      "Epoch 4/3, Total Error: 41.916306646204646\n",
      "Epoch 5/4, Total Error: 41.91549906522271\n",
      "Epoch 6/5, Total Error: 41.91412854858893\n",
      "Epoch 7/6, Total Error: 41.91262695458628\n",
      "Epoch 8/7, Total Error: 41.91109051686448\n",
      "Epoch 9/8, Total Error: 41.90953982282212\n",
      "Epoch 10/9, Total Error: 41.90797763632672\n"
     ]
    },
    {
     "data": {
      "image/png": "[encoded data removed]",
      "text/plain": [
       "<Figure size 640x480 with 1 Axes>"
      ]
     },
     "metadata": {},
     "output_type": "display_data"
    }
   ],
   "source": [
    "import matplotlib.pyplot as plt\n",
    "errors=[]\n",
    "for e in range(10):\n",
    "    total_error = 0\n",
    "    for i in range(len(X_train_flattened[:100])):\n",
    "        # Print the current image index being trained on\n",
    "        # print(f\"Training on image {i + 1}/{len(X_train_flattened[:1000])}\")\n",
    "        \n",
    "        # Display the current training image\n",
    "        # if i % 100 == 0:  # Display every 100th image to avoid too many outputs\n",
    "        #     plt.imshow(X_train[i].reshape(28, 28), cmap='gray')\n",
    "        #     plt.title(f\"Training Image: {i + 1}\")\n",
    "        #     plt.show()\n",
    "\n",
    "        # Backpropagation for the current image\n",
    "        mnist_network.backPropogation(X_train_flattened[i], y_train_one_hot[i], 0.1)\n",
    "        total_error += mnist_network.calculate_total_error([(X_train_flattened[i], y_train_one_hot[i])])\n",
    "    errors.append(total_error)\n",
    "    print(f\"Epoch {e + 1}/{e}, Total Error: {total_error}\")\n",
    "plt.plot(range(10), errors)\n",
    "plt.xlabel('Epoch')\n",
    "plt.ylabel('Error')\n",
    "plt.title('Error Loss Over Epochs')\n",
    "plt.show()"
   ]
  },
  {
   "cell_type": "code",
   "execution_count": 51,
   "metadata": {},
   "outputs": [
    {
     "data": {
      "text/plain": [
       "<matplotlib.image.AxesImage at 0x16aa84ad0>"
      ]
     },
     "execution_count": 51,
     "metadata": {},
     "output_type": "execute_result"
    },
    {
     "data": {
      "image/png": "[encoded data removed]",
      "text/plain": [
       "<Figure size 640x480 with 1 Axes>"
      ]
     },
     "metadata": {},
     "output_type": "display_data"
    }
   ],
   "source": [
    "\n",
    "plt.imshow(X_test[2])"
   ]
  },
  {
   "cell_type": "code",
   "execution_count": 60,
   "metadata": {},
   "outputs": [
    {
     "data": {
      "text/plain": [
       "28"
      ]
     },
     "execution_count": 60,
     "metadata": {},
     "output_type": "execute_result"
    }
   ],
   "source": [
    "len(X_test[2])"
   ]
  },
  {
   "cell_type": "code",
   "execution_count": 56,
   "metadata": {},
   "outputs": [
    {
     "data": {
      "text/plain": [
       "10"
      ]
     },
     "execution_count": 56,
     "metadata": {},
     "output_type": "execute_result"
    }
   ],
   "source": [
    "aa=mnist_network.forward_hidden_op(X_test[2])\n",
    "len(aa)"
   ]
  },
  {
   "cell_type": "code",
   "execution_count": 72,
   "metadata": {},
   "outputs": [
    {
     "data": {
      "text/plain": [
       "array([[0.22385089],\n",
       "       [0.22385089],\n",
       "       [0.22385089],\n",
       "       [0.22385089],\n",
       "       [0.22385089],\n",
       "       [0.22385089],\n",
       "       [0.22385089],\n",
       "       [0.22385089],\n",
       "       [0.22385089],\n",
       "       [0.22385089],\n",
       "       [0.14562695],\n",
       "       [0.06274676],\n",
       "       [0.06274639],\n",
       "       [0.06274639],\n",
       "       [0.06274639],\n",
       "       [0.06274639],\n",
       "       [0.06274639],\n",
       "       [0.06274639],\n",
       "       [0.06526854],\n",
       "       [0.22385089],\n",
       "       [0.22385089],\n",
       "       [0.22385089],\n",
       "       [0.22385089],\n",
       "       [0.22385089],\n",
       "       [0.22385089],\n",
       "       [0.22385089],\n",
       "       [0.22385089],\n",
       "       [0.22385089]])"
      ]
     },
     "execution_count": 72,
     "metadata": {},
     "output_type": "execute_result"
    }
   ],
   "source": [
    "aa[9]"
   ]
  },
  {
   "cell_type": "code",
   "execution_count": 70,
   "metadata": {},
   "outputs": [],
   "source": [
    "# aa"
   ]
  },
  {
   "cell_type": "code",
   "execution_count": 71,
   "metadata": {},
   "outputs": [
    {
     "data": {
      "text/plain": [
       "np.int64(196)"
      ]
     },
     "execution_count": 71,
     "metadata": {},
     "output_type": "execute_result"
    }
   ],
   "source": [
    "predicted_digit = np.argmax(aa)\n",
    "predicted_digit"
   ]
  },
  {
   "cell_type": "code",
   "execution_count": null,
   "metadata": {},
   "outputs": [
    {
     "data": {
      "image/png": "[encoded data removed]",
      "text/plain": [
       "<Figure size 1500x500 with 10 Axes>"
      ]
     },
     "metadata": {},
     "output_type": "display_data"
    }
   ],
   "source": [
    "# num_images = len(aa)\n",
    "# fig, axes = plt.subplots(1, num_images, figsize=(15, 5))  # Adjust figsize for better visibility\n",
    "# for i, ax in enumerate(axes):\n",
    "#     ax.imshow(aa[i], cmap='gray')  # Use 'gray' if these are grayscale images\n",
    "#     ax.axis('off')  # Hide axes for better visualization\n",
    "#     ax.set_title(f\"Image {i+1}\")\n",
    "\n",
    "# plt.tight_layout()\n",
    "# plt.show()"
   ]
  },
  {
   "cell_type": "code",
   "execution_count": 65,
   "metadata": {},
   "outputs": [
    {
     "data": {
      "text/plain": [
       "np.int64(196)"
      ]
     },
     "execution_count": 65,
     "metadata": {},
     "output_type": "execute_result"
    }
   ],
   "source": [
    "predictions = np.argmax(aa)\n",
    "predictions\n"
   ]
  },
  {
   "cell_type": "code",
   "execution_count": null,
   "metadata": {},
   "outputs": [],
   "source": []
  },
  {
   "cell_type": "code",
   "execution_count": null,
   "metadata": {},
   "outputs": [],
   "source": []
  },
  {
   "cell_type": "code",
   "execution_count": 84,
   "metadata": {},
   "outputs": [],
   "source": [
    "import numpy as np\n",
    "\n",
    "class Neuron:\n",
    "    def __init__(self, bias):\n",
    "        self.bias = bias\n",
    "        self.weights = []\n",
    "\n",
    "    def sigmoid(self, x):\n",
    "        \"\"\"Numerically stable sigmoid.\"\"\"\n",
    "        return 1 / (1 + np.exp(-np.clip(x, -100, 100)))\n",
    "\n",
    "    def sum_input_to_hidden(self):\n",
    "        \"\"\"Calculate weighted sum + bias.\"\"\"\n",
    "        weighted_sum = sum(self.input[i] * self.weights[i] for i in range(len(self.input)))\n",
    "        return weighted_sum + self.bias\n",
    "\n",
    "    def cost(self, input_data):\n",
    "        \"\"\"Forward propagation: calculate output.\"\"\"\n",
    "        self.input = input_data\n",
    "        self.output = self.sigmoid(self.sum_input_to_hidden())\n",
    "        return self.output\n",
    "\n",
    "    def error_wrt_output(self, target_op):\n",
    "        \"\"\"Error derivative with respect to output.\"\"\"\n",
    "        return -(target_op - self.output)\n",
    "\n",
    "    def error_wrt_input(self):\n",
    "        \"\"\"Derivative of activation function.\"\"\"\n",
    "        return self.output * (1 - self.output)\n",
    "\n",
    "    def total_error(self, target_op):\n",
    "        \"\"\"Total error for a neuron.\"\"\"\n",
    "        return self.error_wrt_input() * self.error_wrt_output(target_op)\n",
    "\n",
    "\n",
    "class Network:\n",
    "    def __init__(self, hidden_layer, bias):\n",
    "        self.network = []\n",
    "        self.bias = bias if bias is not None else np.random.rand()\n",
    "        for _ in range(hidden_layer):\n",
    "            self.network.append(Neuron(self.bias))\n",
    "\n",
    "    def forward(self, input_data):\n",
    "        \"\"\"Forward propagation for the network.\"\"\"\n",
    "        outputs = [neuron.cost(input_data) for neuron in self.network]\n",
    "        return outputs\n",
    "\n",
    "\n",
    "class AllNetwork:\n",
    "    def __init__(self, n_input_layer, n_hidden_layer, n_output_layer, hidden_weights, output_weights, hidden_bias, output_bias):\n",
    "        self.hidden_l_network = Network(n_hidden_layer, hidden_bias)\n",
    "        self.output_l_network = Network(n_output_layer, output_bias)\n",
    "        self.n_input_layer = n_input_layer\n",
    "        self.add_weights(self.hidden_l_network, hidden_weights, n_input_layer)\n",
    "        self.add_weights(self.output_l_network, output_weights, n_hidden_layer)\n",
    "\n",
    "    def add_weights(self, layer, weights, num_inputs):\n",
    "        \"\"\"Initialize weights for a network layer.\"\"\"\n",
    "        count = 0\n",
    "        for neuron in layer.network:\n",
    "            neuron.weights = weights[count:count + num_inputs]\n",
    "            count += num_inputs\n",
    "\n",
    "    def forward_hidden_op(self, input_data):\n",
    "        \"\"\"Forward propagation through hidden and output layers.\"\"\"\n",
    "        hidden_output = self.hidden_l_network.forward(input_data)\n",
    "        output = self.output_l_network.forward(hidden_output)\n",
    "        return output\n",
    "\n",
    "    def back_propagation(self, input_data, target_op, learning_rate=0.5):\n",
    "        \"\"\"Backpropagation to update weights and biases.\"\"\"\n",
    "        # Forward pass\n",
    "        hidden_output = self.hidden_l_network.forward(input_data)\n",
    "        final_output = self.output_l_network.forward(hidden_output)\n",
    "\n",
    "        # Output layer deltas\n",
    "        output_deltas = []\n",
    "        for i in range(len(target_op)):\n",
    "            error_wrt_input = self.output_l_network.network[i].error_wrt_input()\n",
    "            output_deltas.append((target_op[i] - final_output[i]) * error_wrt_input)\n",
    "\n",
    "        # Hidden layer deltas\n",
    "        hidden_deltas = []\n",
    "        for i in range(len(self.hidden_l_network.network)):\n",
    "            weighted_sum = sum(\n",
    "                output_deltas[j] * self.output_l_network.network[j].weights[i]\n",
    "                for j in range(len(self.output_l_network.network))\n",
    "            )\n",
    "            hidden_deltas.append(weighted_sum * self.hidden_l_network.network[i].error_wrt_input())\n",
    "\n",
    "        # Update output layer weights and biases\n",
    "        for i, neuron in enumerate(self.output_l_network.network):\n",
    "            for j in range(len(neuron.weights)):\n",
    "                neuron.weights[j] += learning_rate * output_deltas[i] * hidden_output[j]\n",
    "            neuron.bias += learning_rate * output_deltas[i]\n",
    "\n",
    "        # Update hidden layer weights and biases\n",
    "        for i, neuron in enumerate(self.hidden_l_network.network):\n",
    "            for j in range(len(neuron.weights)):\n",
    "                neuron.weights[j] += learning_rate * hidden_deltas[i] * input_data[j]\n",
    "            neuron.bias += learning_rate * hidden_deltas[i]\n",
    "\n",
    "    def calculate_total_error(self, dataset):\n",
    "        \"\"\"Compute total error for the dataset.\"\"\"\n",
    "        total_error = 0\n",
    "        for input_data, target_op in dataset:\n",
    "            outputs = self.forward_hidden_op(input_data)\n",
    "            total_error += sum(0.5 * (target_op[i] - outputs[i]) ** 2 for i in range(len(target_op)))\n",
    "        return total_error\n"
   ]
  },
  {
   "cell_type": "code",
   "execution_count": 85,
   "metadata": {},
   "outputs": [
    {
     "name": "stdout",
     "output_type": "stream",
     "text": [
      "Epoch 0, Total Error: 0.374310\n",
      "Epoch 100, Total Error: 0.003950\n",
      "Epoch 200, Total Error: 0.001612\n",
      "Epoch 300, Total Error: 0.000944\n",
      "Epoch 400, Total Error: 0.000639\n",
      "Epoch 500, Total Error: 0.000469\n",
      "Epoch 600, Total Error: 0.000362\n",
      "Epoch 700, Total Error: 0.000290\n",
      "Epoch 800, Total Error: 0.000238\n",
      "Epoch 900, Total Error: 0.000199\n",
      "Predicted Output: [np.float64(0.02321167966823035), np.float64(0.9771681221210514)]\n"
     ]
    }
   ],
   "source": [
    "# Initialize neural network parameters\n",
    "n_input = 3\n",
    "n_hidden = 4\n",
    "n_output = 2\n",
    "hidden_weights = [0.15, 0.2, 0.35, 0.25, 0.3, 0.35, 0.4, 0.45, 0.5, 0.55, 0.6, 0.65]\n",
    "output_weights = [0.45, 0.5, 0.55, 0.6, 0.4, 0.35, 0.3, 0.25]\n",
    "hidden_bias = 0.35\n",
    "output_bias = 0.6\n",
    "\n",
    "# Create a network\n",
    "network = AllNetwork(n_input, n_hidden, n_output, hidden_weights, output_weights, hidden_bias, output_bias)\n",
    "\n",
    "# Sample dataset\n",
    "dataset = [([0.05, 0.1, 0.2], [0.01, 0.99])]\n",
    "\n",
    "# Train the network\n",
    "for epoch in range(1000):\n",
    "    for input_data, target_op in dataset:\n",
    "        network.back_propagation(input_data, target_op, learning_rate=0.5)\n",
    "    if epoch % 100 == 0:\n",
    "        error = network.calculate_total_error(dataset)\n",
    "        print(f\"Epoch {epoch}, Total Error: {error:.6f}\")\n",
    "\n",
    "# Predict using the trained network\n",
    "sample_input = [0.05, 0.1, 0.2]\n",
    "output = network.forward_hidden_op(sample_input)\n",
    "print(\"Predicted Output:\", output)\n"
   ]
  },
  {
   "cell_type": "code",
   "execution_count": null,
   "metadata": {},
   "outputs": [
    {
     "data": {
      "text/plain": [
       "10"
      ]
     },
     "metadata": {},
     "output_type": "display_data"
    }
   ],
   "source": [
    "aa=mnist_network.forward_hidden_op(X_test[2])\n",
    "len(aa)"
   ]
  },
  {
   "cell_type": "code",
   "execution_count": 87,
   "metadata": {},
   "outputs": [
    {
     "ename": "KeyboardInterrupt",
     "evalue": "",
     "output_type": "error",
     "traceback": [
      "\u001b[0;31m---------------------------------------------------------------------------\u001b[0m",
      "\u001b[0;31mKeyboardInterrupt\u001b[0m                         Traceback (most recent call last)",
      "Cell \u001b[0;32mIn[87], line 139\u001b[0m\n\u001b[1;32m    137\u001b[0m     batch_y \u001b[38;5;241m=\u001b[39m y_train_one_hot[i:i \u001b[38;5;241m+\u001b[39m batch_size]\n\u001b[1;32m    138\u001b[0m     \u001b[38;5;28;01mfor\u001b[39;00m input_data, target_op \u001b[38;5;129;01min\u001b[39;00m \u001b[38;5;28mzip\u001b[39m(batch_x, batch_y):\n\u001b[0;32m--> 139\u001b[0m         \u001b[43mnetwork\u001b[49m\u001b[38;5;241;43m.\u001b[39;49m\u001b[43mback_propagation\u001b[49m\u001b[43m(\u001b[49m\u001b[43minput_data\u001b[49m\u001b[43m,\u001b[49m\u001b[43m \u001b[49m\u001b[43mtarget_op\u001b[49m\u001b[43m,\u001b[49m\u001b[43m \u001b[49m\u001b[43mlearning_rate\u001b[49m\u001b[43m)\u001b[49m\n\u001b[1;32m    141\u001b[0m \u001b[38;5;66;03m# Calculate error for this epoch\u001b[39;00m\n\u001b[1;32m    142\u001b[0m total_error \u001b[38;5;241m=\u001b[39m network\u001b[38;5;241m.\u001b[39mcalculate_total_error(\u001b[38;5;28mlist\u001b[39m(\u001b[38;5;28mzip\u001b[39m(x_train[:\u001b[38;5;241m100\u001b[39m], y_train_one_hot[:\u001b[38;5;241m100\u001b[39m])))\n",
      "Cell \u001b[0;32mIn[87], line 85\u001b[0m, in \u001b[0;36mAllNetwork.back_propagation\u001b[0;34m(self, input_data, target_op, learning_rate)\u001b[0m\n\u001b[1;32m     83\u001b[0m \u001b[38;5;28;01mfor\u001b[39;00m i, neuron \u001b[38;5;129;01min\u001b[39;00m \u001b[38;5;28menumerate\u001b[39m(\u001b[38;5;28mself\u001b[39m\u001b[38;5;241m.\u001b[39mhidden_layer\u001b[38;5;241m.\u001b[39mnetwork):\n\u001b[1;32m     84\u001b[0m     \u001b[38;5;28;01mfor\u001b[39;00m j \u001b[38;5;129;01min\u001b[39;00m \u001b[38;5;28mrange\u001b[39m(\u001b[38;5;28mlen\u001b[39m(neuron\u001b[38;5;241m.\u001b[39mweights)):\n\u001b[0;32m---> 85\u001b[0m         neuron\u001b[38;5;241m.\u001b[39mweights[j] \u001b[38;5;241m+\u001b[39m\u001b[38;5;241m=\u001b[39m learning_rate \u001b[38;5;241m*\u001b[39m hidden_deltas[i] \u001b[38;5;241m*\u001b[39m input_data[j]\n\u001b[1;32m     86\u001b[0m     neuron\u001b[38;5;241m.\u001b[39mbias \u001b[38;5;241m+\u001b[39m\u001b[38;5;241m=\u001b[39m learning_rate \u001b[38;5;241m*\u001b[39m hidden_deltas[i]\n",
      "\u001b[0;31mKeyboardInterrupt\u001b[0m: "
     ]
    }
   ],
   "source": [
    "import numpy as np\n",
    "from tensorflow.keras.datasets import mnist\n",
    "from tensorflow.keras.utils import to_categorical\n",
    "\n",
    "class Neuron:\n",
    "    def __init__(self, bias):\n",
    "        self.bias = bias\n",
    "        self.weights = []\n",
    "\n",
    "    def sigmoid(self, x):\n",
    "        \"\"\"Numerically stable sigmoid.\"\"\"\n",
    "        return 1 / (1 + np.exp(-np.clip(x, -100, 100)))\n",
    "\n",
    "    def sum_input_to_hidden(self):\n",
    "        \"\"\"Calculate weighted sum + bias.\"\"\"\n",
    "        return sum(self.input[i] * self.weights[i] for i in range(len(self.input))) + self.bias\n",
    "\n",
    "    def cost(self, input_data):\n",
    "        \"\"\"Forward propagation: calculate output.\"\"\"\n",
    "        self.input = input_data\n",
    "        self.output = self.sigmoid(self.sum_input_to_hidden())\n",
    "        return self.output\n",
    "\n",
    "    def error_wrt_output(self, target_op):\n",
    "        \"\"\"Error derivative with respect to output.\"\"\"\n",
    "        return -(target_op - self.output)\n",
    "\n",
    "    def error_wrt_input(self):\n",
    "        \"\"\"Derivative of activation function.\"\"\"\n",
    "        return self.output * (1 - self.output)\n",
    "\n",
    "\n",
    "class Network:\n",
    "    def __init__(self, num_neurons, bias):\n",
    "        self.network = [Neuron(bias) for _ in range(num_neurons)]\n",
    "\n",
    "    def forward(self, input_data):\n",
    "        \"\"\"Forward propagation for the network.\"\"\"\n",
    "        return [neuron.cost(input_data) for neuron in self.network]\n",
    "\n",
    "\n",
    "class AllNetwork:\n",
    "    def __init__(self, n_input, n_hidden, n_output, hidden_bias, output_bias):\n",
    "        self.hidden_layer = Network(n_hidden, hidden_bias)\n",
    "        self.output_layer = Network(n_output, output_bias)\n",
    "        self.initialize_weights(self.hidden_layer, n_input)\n",
    "        self.initialize_weights(self.output_layer, n_hidden)\n",
    "\n",
    "    def initialize_weights(self, layer, num_inputs):\n",
    "        \"\"\"Randomly initialize weights for neurons.\"\"\"\n",
    "        for neuron in layer.network:\n",
    "            neuron.weights = np.random.uniform(-0.5, 0.5, num_inputs).tolist()\n",
    "\n",
    "    def forward_hidden_op(self, input_data):\n",
    "        \"\"\"Forward propagation through the network.\"\"\"\n",
    "        hidden_output = self.hidden_layer.forward(input_data)\n",
    "        output = self.output_layer.forward(hidden_output)\n",
    "        return hidden_output, output\n",
    "\n",
    "    def back_propagation(self, input_data, target_op, learning_rate=0.01):\n",
    "        \"\"\"Backpropagation to update weights and biases.\"\"\"\n",
    "        # Forward pass\n",
    "        hidden_output, final_output = self.forward_hidden_op(input_data)\n",
    "\n",
    "        # Calculate output layer deltas\n",
    "        output_deltas = [(target_op[i] - final_output[i]) * self.output_layer.network[i].error_wrt_input()\n",
    "                         for i in range(len(target_op))]\n",
    "\n",
    "        # Calculate hidden layer deltas\n",
    "        hidden_deltas = []\n",
    "        for i in range(len(self.hidden_layer.network)):\n",
    "            weighted_sum = sum(output_deltas[j] * self.output_layer.network[j].weights[i]\n",
    "                               for j in range(len(self.output_layer.network)))\n",
    "            hidden_deltas.append(weighted_sum * self.hidden_layer.network[i].error_wrt_input())\n",
    "\n",
    "        # Update output layer weights and biases\n",
    "        for i, neuron in enumerate(self.output_layer.network):\n",
    "            for j in range(len(neuron.weights)):\n",
    "                neuron.weights[j] += learning_rate * output_deltas[i] * hidden_output[j]\n",
    "            neuron.bias += learning_rate * output_deltas[i]\n",
    "\n",
    "        # Update hidden layer weights and biases\n",
    "        for i, neuron in enumerate(self.hidden_layer.network):\n",
    "            for j in range(len(neuron.weights)):\n",
    "                neuron.weights[j] += learning_rate * hidden_deltas[i] * input_data[j]\n",
    "            neuron.bias += learning_rate * hidden_deltas[i]\n",
    "\n",
    "    def calculate_total_error(self, dataset):\n",
    "        \"\"\"Compute total error for the dataset.\"\"\"\n",
    "        total_error = 0\n",
    "        for input_data, target_op in dataset:\n",
    "            _, outputs = self.forward_hidden_op(input_data)\n",
    "            total_error += sum(0.5 * (target_op[i] - outputs[i]) ** 2 for i in range(len(target_op)))\n",
    "        return total_error\n",
    "\n",
    "    def predict(self, input_data):\n",
    "        \"\"\"Make predictions based on the forward pass.\"\"\"\n",
    "        _, outputs = self.forward_hidden_op(input_data)\n",
    "        return np.argmax(outputs)\n",
    "\n",
    "    def evaluate(self, x_test, y_test):\n",
    "        \"\"\"Evaluate the accuracy of the network.\"\"\"\n",
    "        correct = 0\n",
    "        for input_data, label in zip(x_test, y_test):\n",
    "            prediction = self.predict(input_data)\n",
    "            if prediction == label:\n",
    "                correct += 1\n",
    "        return correct / len(x_test)\n",
    "\n",
    "\n",
    "# Load MNIST Dataset\n",
    "(x_train, y_train), (x_test, y_test) = mnist.load_data()\n",
    "\n",
    "# Preprocess data\n",
    "x_train = x_train.reshape(-1, 28 * 28).astype(\"float32\") / 255.0\n",
    "x_test = x_test.reshape(-1, 28 * 28).astype(\"float32\") / 255.0\n",
    "y_train_one_hot = to_categorical(y_train, num_classes=10)\n",
    "y_test_one_hot = to_categorical(y_test, num_classes=10)\n",
    "\n",
    "# Initialize network\n",
    "n_input = 784\n",
    "n_hidden = 128\n",
    "n_output = 10\n",
    "hidden_bias = 0.35\n",
    "output_bias = 0.6\n",
    "\n",
    "network = AllNetwork(n_input, n_hidden, n_output, hidden_bias, output_bias)\n",
    "\n",
    "# Train the network\n",
    "epochs = 5\n",
    "batch_size = 32\n",
    "learning_rate = 0.01\n",
    "\n",
    "for epoch in range(epochs):\n",
    "    for i in range(0, len(x_train), batch_size):\n",
    "        batch_x = x_train[i:i + batch_size]\n",
    "        batch_y = y_train_one_hot[i:i + batch_size]\n",
    "        for input_data, target_op in zip(batch_x, batch_y):\n",
    "            network.back_propagation(input_data, target_op, learning_rate)\n",
    "\n",
    "    # Calculate error for this epoch\n",
    "    total_error = network.calculate_total_error(list(zip(x_train[:100], y_train_one_hot[:100])))\n",
    "    print(f\"Epoch {epoch + 1}/{epochs}, Total Error: {total_error:.4f}\")\n",
    "\n",
    "# Evaluate on test data\n",
    "accuracy = network.evaluate(x_test[:100], y_test[:100])\n",
    "print(f\"Test Accuracy: {accuracy:.2%}\")\n"
   ]
  },
  {
   "cell_type": "code",
   "execution_count": null,
   "metadata": {},
   "outputs": [],
   "source": []
  }
 ],
 "metadata": {
  "kernelspec": {
   "display_name": "mlp",
   "language": "python",
   "name": "python3"
  },
  "language_info": {
   "codemirror_mode": {
    "name": "ipython",
    "version": 3
   },
   "file_extension": ".py",
   "mimetype": "text/x-python",
   "name": "python",
   "nbconvert_exporter": "python",
   "pygments_lexer": "ipython3",
   "version": "3.12.4"
  }
 },
 "nbformat": 4,
 "nbformat_minor": 2
}
